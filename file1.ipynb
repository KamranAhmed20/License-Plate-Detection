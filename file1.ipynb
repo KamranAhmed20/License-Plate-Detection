{
 "cells": [
  {
   "cell_type": "code",
   "execution_count": null,
   "metadata": {
    "colab": {
     "base_uri": "https://localhost:8080/"
    },
    "executionInfo": {
     "elapsed": 27395,
     "status": "ok",
     "timestamp": 1734773414508,
     "user": {
      "displayName": "Awais Khan Swati",
      "userId": "06691060369327443801"
     },
     "user_tz": -300
    },
    "id": "zLAwIYhnhPzM",
    "outputId": "2d808d98-7a77-4ebb-9a92-8d8e9de65822"
   },
   "outputs": [],
   "source": [
    "from google.colab import drive\n",
    "drive.mount('/content/drive')"
   ]
  },
  {
   "cell_type": "code",
   "execution_count": null,
   "metadata": {
    "executionInfo": {
     "elapsed": 387,
     "status": "ok",
     "timestamp": 1734773515328,
     "user": {
      "displayName": "Awais Khan Swati",
      "userId": "06691060369327443801"
     },
     "user_tz": -300
    },
    "id": "6TZusg0rhF8U"
   },
   "outputs": [],
   "source": [
    "import pandas as pd"
   ]
  },
  {
   "cell_type": "markdown",
   "metadata": {
    "id": "er_i2JrShF8X"
   },
   "source": [
    "Reading the CSV file"
   ]
  },
  {
   "cell_type": "code",
   "execution_count": null,
   "metadata": {
    "colab": {
     "base_uri": "https://localhost:8080/",
     "height": 261
    },
    "executionInfo": {
     "elapsed": 393,
     "status": "ok",
     "timestamp": 1734773518652,
     "user": {
      "displayName": "Awais Khan Swati",
      "userId": "06691060369327443801"
     },
     "user_tz": -300
    },
    "id": "YghOHOR2hF8Y",
    "outputId": "5480e09d-88e8-45b4-dddd-59aaae0c2098"
   },
   "outputs": [],
   "source": [
    "\n",
    "file_path = \"/content/drive/MyDrive/Colab Notebooks/Current File/pakistan_car_license_dataset.csv\"\n",
    "data = pd.read_csv(file_path)\n",
    "print(\"Initial Dataset:\")\n",
    "data.head() # first few rows\n"
   ]
  },
  {
   "cell_type": "markdown",
   "metadata": {
    "id": "sIM-RQLKhF8Z"
   },
   "source": [
    "removing missing values"
   ]
  },
  {
   "cell_type": "code",
   "execution_count": null,
   "metadata": {
    "colab": {
     "base_uri": "https://localhost:8080/"
    },
    "executionInfo": {
     "elapsed": 425,
     "status": "ok",
     "timestamp": 1734773531037,
     "user": {
      "displayName": "Awais Khan Swati",
      "userId": "06691060369327443801"
     },
     "user_tz": -300
    },
    "id": "rzRBRy8ghF8Z",
    "outputId": "e2548746-415a-4cbd-a631-9ae50a1eef1a"
   },
   "outputs": [],
   "source": [
    "data = data.dropna(subset=[\"License_Plate\", \"Owner_Name\", \"Car_Model\", \"License_Valid\"])\n",
    "\n",
    "# Display remaining rows\n",
    "print(f\"\\nDataset after removing rows with missing values: {data.shape[0]} rows\")\n"
   ]
  },
  {
   "cell_type": "markdown",
   "metadata": {
    "id": "StdMTaHChF8Z"
   },
   "source": [
    "Removing Duplicate Values"
   ]
  },
  {
   "cell_type": "code",
   "execution_count": null,
   "metadata": {
    "colab": {
     "base_uri": "https://localhost:8080/"
    },
    "executionInfo": {
     "elapsed": 2,
     "status": "ok",
     "timestamp": 1734773535926,
     "user": {
      "displayName": "Awais Khan Swati",
      "userId": "06691060369327443801"
     },
     "user_tz": -300
    },
    "id": "5F1Ga93phF8a",
    "outputId": "d511ecc3-f6f7-4347-c1a7-a04cf4f82599"
   },
   "outputs": [],
   "source": [
    "# Remove duplicate rows based on License_Plate\n",
    "data = data.drop_duplicates(subset=[\"License_Plate\"], keep=\"first\")\n",
    "\n",
    "# Display the number of rows after removing duplicates\n",
    "print(f\"\\nDataset after removing duplicates: {data.shape[0]} rows\")\n"
   ]
  },
  {
   "cell_type": "markdown",
   "metadata": {
    "id": "flw9RZTPhF8a"
   },
   "source": [
    "Standardizing Text Data"
   ]
  },
  {
   "cell_type": "code",
   "execution_count": null,
   "metadata": {
    "colab": {
     "base_uri": "https://localhost:8080/",
     "height": 278
    },
    "executionInfo": {
     "elapsed": 522,
     "status": "ok",
     "timestamp": 1734773540533,
     "user": {
      "displayName": "Awais Khan Swati",
      "userId": "06691060369327443801"
     },
     "user_tz": -300
    },
    "id": "0Ms8ldTAhF8a",
    "outputId": "59af95d8-d7db-41b9-9e81-87d2639d8253"
   },
   "outputs": [],
   "source": [
    "# Step 4: Standardize Text Data\n",
    "data[\"License_Plate\"] = data[\"License_Plate\"].str.strip().str.upper()\n",
    "data[\"Owner_Name\"] = data[\"Owner_Name\"].str.strip().str.title()\n",
    "data[\"Car_Model\"] = data[\"Car_Model\"].str.strip().str.title()\n",
    "data[\"License_Valid\"] = data[\"License_Valid\"].str.strip().str.capitalize()\n",
    "\n",
    "# Display a few rows after standardization\n",
    "print(\"\\nDataset after standardizing text data:\")\n",
    "data.head()\n"
   ]
  },
  {
   "cell_type": "markdown",
   "metadata": {
    "id": "XwY0hgoGhF8b"
   },
   "source": [
    "Encoding Categorical Variables"
   ]
  },
  {
   "cell_type": "code",
   "execution_count": null,
   "metadata": {
    "colab": {
     "base_uri": "https://localhost:8080/",
     "height": 241
    },
    "executionInfo": {
     "elapsed": 1184,
     "status": "ok",
     "timestamp": 1734773549761,
     "user": {
      "displayName": "Awais Khan Swati",
      "userId": "06691060369327443801"
     },
     "user_tz": -300
    },
    "id": "0jBWvxr_hF8b",
    "outputId": "c9337ed4-c2f6-497a-d112-9c38cda9ba80"
   },
   "outputs": [],
   "source": [
    "# Encode 'Valid' as 1 and 'Invalid' as 0\n",
    "data[\"License_Valid_Encoded\"] = data[\"License_Valid\"].map({\"Valid\": 1, \"Invalid\": 0})\n",
    "\n",
    "# Display the first few rows with the new encoded column\n",
    "print(\"\\nDataset after encoding categorical variables:\")\n",
    "data[[\"License_Valid\", \"License_Valid_Encoded\"]].head()\n"
   ]
  },
  {
   "cell_type": "markdown",
   "metadata": {
    "id": "Xngt-pRXhF8b"
   },
   "source": [
    "Final Cleaning (Removing unnecessary attributes)"
   ]
  },
  {
   "cell_type": "code",
   "execution_count": null,
   "metadata": {
    "colab": {
     "base_uri": "https://localhost:8080/",
     "height": 241
    },
    "executionInfo": {
     "elapsed": 634,
     "status": "ok",
     "timestamp": 1734773553829,
     "user": {
      "displayName": "Awais Khan Swati",
      "userId": "06691060369327443801"
     },
     "user_tz": -300
    },
    "id": "pk6Q-2SPhF8b",
    "outputId": "00c88c3d-0039-4cd6-93ed-e1a8cebdc1e0"
   },
   "outputs": [],
   "source": [
    "\n",
    "# Select columns relevant for the analysis\n",
    "data = data[[\"License_Plate\", \"Owner_Name\", \"Car_Model\", \"Registration_Region\",\"License_Valid\", \"License_Valid_Encoded\"]]\n",
    "\n",
    "# Display the cleaned dataset\n",
    "print(\"\\nFinal Cleaned Dataset:\")\n",
    "data.head()\n"
   ]
  },
  {
   "cell_type": "markdown",
   "metadata": {
    "id": "_8DOiSXshF8b"
   },
   "source": [
    "Saving Final Dataset to CSV file"
   ]
  },
  {
   "cell_type": "code",
   "execution_count": null,
   "metadata": {
    "colab": {
     "base_uri": "https://localhost:8080/"
    },
    "executionInfo": {
     "elapsed": 687,
     "status": "ok",
     "timestamp": 1734773577605,
     "user": {
      "displayName": "Awais Khan Swati",
      "userId": "06691060369327443801"
     },
     "user_tz": -300
    },
    "id": "rITGM8q7hF8b",
    "outputId": "8bc989e2-4c47-4a0f-cd5c-4daf1cc23f5f"
   },
   "outputs": [],
   "source": [
    "output_file = \"preprocessed_pakistan_car_license_dataset.csv\"\n",
    "data.to_csv(output_file, index=False)\n",
    "\n",
    "print(f\"\\nProcessed dataset saved to: {output_file}\")\n"
   ]
  },
  {
   "cell_type": "markdown",
   "metadata": {
    "id": "Emiy-wrVhF8b"
   },
   "source": [
    "Taking Sample of 30 values from the original dataset"
   ]
  },
  {
   "cell_type": "code",
   "execution_count": null,
   "metadata": {
    "colab": {
     "base_uri": "https://localhost:8080/",
     "height": 990
    },
    "executionInfo": {
     "elapsed": 380,
     "status": "ok",
     "timestamp": 1734773582492,
     "user": {
      "displayName": "Awais Khan Swati",
      "userId": "06691060369327443801"
     },
     "user_tz": -300
    },
    "id": "1h_tusjdhF8c",
    "outputId": "91681567-c574-468e-8a54-0f386318225e"
   },
   "outputs": [],
   "source": [
    "sample_df = data.sample(frac = 0.3, random_state=42)\n",
    "sample_df"
   ]
  },
  {
   "cell_type": "markdown",
   "metadata": {
    "id": "2QKfs1A3hF8c"
   },
   "source": [
    "Visual Comparisons Using matplotlib & Seaborn  "
   ]
  },
  {
   "cell_type": "code",
   "execution_count": null,
   "metadata": {
    "colab": {
     "base_uri": "https://localhost:8080/",
     "height": 771
    },
    "executionInfo": {
     "elapsed": 792,
     "status": "ok",
     "timestamp": 1734024182467,
     "user": {
      "displayName": "Hassan Khan",
      "userId": "06357419573645611227"
     },
     "user_tz": -300
    },
    "id": "iYjshgTmhF8c",
    "outputId": "5d6b489d-fd67-4ece-c1a0-d4e360d7ecf5"
   },
   "outputs": [],
   "source": [
    "# License Validity by Region\n",
    "plt.figure(figsize=(12, 8))\n",
    "\n",
    "# Group data by region and license validity\n",
    "region_validity = sample_df.groupby([\"Registration_Region\", \"License_Valid\"]).size().unstack()\n",
    "\n",
    "# Plot the grouped bar chart\n",
    "region_validity.plot(\n",
    "    kind=\"bar\",\n",
    "    stacked=False,\n",
    "    color={\"Valid\": \"#4CAF50\", \"Invalid\": \"#FF5722\"},  # Green for Valid, Red for Invalid\n",
    "    figsize=(12, 8)\n",
    ")\n",
    "\n",
    "# Adding labels and title\n",
    "plt.title(\"License Validity by Region\", fontsize=16)\n",
    "plt.xlabel(\"Region\", fontsize=14)\n",
    "plt.ylabel(\"Count\", fontsize=14)\n",
    "plt.xticks(rotation=45, fontsize=12)\n",
    "plt.yticks(fontsize=12)\n",
    "plt.legend(title=\"License Status\", fontsize=12)\n",
    "\n",
    "# Show the plot\n",
    "plt.tight_layout()\n",
    "plt.show()\n"
   ]
  },
  {
   "cell_type": "code",
   "execution_count": null,
   "metadata": {
    "id": "BHbHCK2nhF8c"
   },
   "outputs": [],
   "source": [
    "import matplotlib.pyplot as plt\n",
    "import seaborn as sns\n",
    "\n",
    "# Set Seaborn style for better visuals\n",
    "sns.set_theme(style=\"whitegrid\")"
   ]
  },
  {
   "cell_type": "code",
   "execution_count": null,
   "metadata": {
    "id": "9V6fDoTEhF8c"
   },
   "outputs": [],
   "source": [
    "# Set Seaborn style for better visuals\n",
    "sns.set_theme(style=\"whitegrid\")"
   ]
  },
  {
   "cell_type": "markdown",
   "metadata": {
    "id": "vJI3vQvahF8c"
   },
   "source": [
    "1 Valid VS Invalid Licenses (Bar Chart)\n"
   ]
  },
  {
   "cell_type": "code",
   "execution_count": null,
   "metadata": {
    "colab": {
     "base_uri": "https://localhost:8080/",
     "height": 904
    },
    "executionInfo": {
     "elapsed": 825,
     "status": "ok",
     "timestamp": 1734024179361,
     "user": {
      "displayName": "Hassan Khan",
      "userId": "06357419573645611227"
     },
     "user_tz": -300
    },
    "id": "SkYjyEP4hF8c",
    "outputId": "84c554ef-07cb-461a-e156-70150ad7eb1b"
   },
   "outputs": [],
   "source": [
    "plt.figure(figsize=(10,9))\n",
    "license_counts = sample_df[\"License_Valid\"].value_counts() #counting the validity attribute\n",
    "sns.barplot(\n",
    "    x=license_counts.index,\n",
    "    y=license_counts.values,\n",
    "    hue=license_counts.index,\n",
    "    dodge=False,  # Ensures a single bar per category\n",
    "    palette={\"Valid\": \"#4CAF50\", \"Invalid\": \"#FF5722\"}  # Green for Valid, Red for Invalid\n",
    ")\n",
    "plt.legend([], [], frameon=False)  # Removes legend\n",
    "\n",
    "# Adding labels and title\n",
    "plt.title(\"Distribution of License Validity\", fontsize=16)\n",
    "plt.xlabel(\"License Status\", fontsize=14)\n",
    "plt.ylabel(\"Count\", fontsize=14)\n",
    "plt.xticks(fontsize=12)\n",
    "plt.yticks(fontsize=12)\n",
    "\n",
    "# Annotate values on bars\n",
    "for i, value in enumerate(license_counts.values):\n",
    "    plt.text(i, value + 2, str(value), ha=\"center\", fontsize=12)\n",
    "\n",
    "plt.tight_layout()\n",
    "plt.show()\n",
    "\n",
    "\n"
   ]
  },
  {
   "cell_type": "markdown",
   "metadata": {
    "id": "uYlK70ALhF8c"
   },
   "source": [
    "License Validity by Region (Bar Chart)"
   ]
  },
  {
   "cell_type": "markdown",
   "metadata": {
    "id": "EZPZmMVghF8c"
   },
   "source": [
    "pip install ultralytics easyocr opencv-python\n"
   ]
  },
  {
   "cell_type": "markdown",
   "metadata": {
    "id": "SUZSLprShF8d"
   },
   "source": [
    "YOLOv8 Plate Detection"
   ]
  },
  {
   "cell_type": "code",
   "execution_count": null,
   "metadata": {
    "colab": {
     "base_uri": "https://localhost:8080/"
    },
    "executionInfo": {
     "elapsed": 8055,
     "status": "ok",
     "timestamp": 1734033884049,
     "user": {
      "displayName": "Hassan Khan",
      "userId": "06357419573645611227"
     },
     "user_tz": -300
    },
    "id": "3UBmcUrN5zDo",
    "outputId": "7249d51c-0510-4521-bdde-e6448d41b51d"
   },
   "outputs": [],
   "source": [
    "!pip install ultralytics easyocr opencv-python\n"
   ]
  },
  {
   "cell_type": "code",
   "execution_count": null,
   "metadata": {
    "colab": {
     "base_uri": "https://localhost:8080/",
     "height": 1000
    },
    "executionInfo": {
     "elapsed": 1743319,
     "status": "ok",
     "timestamp": 1734018407026,
     "user": {
      "displayName": "Awais Khan Swati",
      "userId": "06691060369327443801"
     },
     "user_tz": -300
    },
    "id": "t0ghO8JShF8d",
    "outputId": "9041e07a-3e89-4a06-beac-4ab3b765aa29"
   },
   "outputs": [],
   "source": [
    "from ultralytics import YOLO\n",
    "import cv2\n",
    "import os\n",
    "import matplotlib.pyplot as plt\n",
    "\n",
    "# Load the models\n",
    "car_model = YOLO(\"yolov8n.pt\")  # Car detection model\n",
    "plate_model = YOLO(\"/content/drive/MyDrive/Colab Notebooks/Current File/license_plate_detector.pt\")  # License plate detection model\n",
    "\n",
    "# Paths\n",
    "video_path = r\"/content/drive/MyDrive/Colab Notebooks/Current File/sample2.mp4\"\n",
    "frames_dir = r\"/content/drive/MyDrive/Colab Notebooks/Current File/frames\"  # Directory to save frames\n",
    "plates_dir = r\"/content/drive/MyDrive/Colab Notebooks/Current File/plates\"  # Directory to save cropped plates\n",
    "\n",
    "# Create directories for frames and plates if they don't exist\n",
    "os.makedirs(frames_dir, exist_ok=True)\n",
    "os.makedirs(plates_dir, exist_ok=True)\n",
    "\n",
    "# Open the video file\n",
    "cap = cv2.VideoCapture(video_path)\n",
    "frame_count = 0\n",
    "plate_tracker = set()  # Track unique license plates based on coordinates\n",
    "\n",
    "# Process the video and save frames\n",
    "while cap.isOpened():\n",
    "    ret, frame = cap.read()\n",
    "    if not ret:  # Break the loop if the video ends\n",
    "        print(\"Video processing completed.\")\n",
    "        break\n",
    "\n",
    "    # Run car detection YOLO model\n",
    "    car_results = car_model(frame)\n",
    "\n",
    "    # Annotate the frame with detected cars\n",
    "    annotated_frame = car_results[0].plot()\n",
    "\n",
    "    # Loop through car detections to process license plates\n",
    "    for result in car_results:\n",
    "        for box in result.boxes.data.tolist():\n",
    "            x1, y1, x2, y2, score, cls_id = box  # Box coordinates, score, and class ID\n",
    "            cls_name = car_model.names[int(cls_id)]\n",
    "\n",
    "            if cls_name == \"car\":  # Check for \"car\" detections\n",
    "                # Crop the car region\n",
    "                car_crop = frame[int(y1):int(y2), int(x1):int(x2)]\n",
    "\n",
    "                # Run license plate detection on the cropped car region\n",
    "                plate_results = plate_model(car_crop)\n",
    "\n",
    "                for plate_result in plate_results:\n",
    "                    for plate_box in plate_result.boxes.data.tolist():\n",
    "                        px1, py1, px2, py2, pscore, pcls_id = plate_box  # Plate box coordinates\n",
    "                        plate_crop = car_crop[int(py1):int(py2), int(px1):int(px2)]\n",
    "\n",
    "                        # Calculate the absolute plate coordinates\n",
    "                        abs_plate_coords = (int(x1) + int(px1), int(y1) + int(py1),\n",
    "                                            int(x1) + int(px2), int(y1) + int(py2))\n",
    "\n",
    "                        # Check if the plate was already detected\n",
    "                        if abs_plate_coords not in plate_tracker:\n",
    "                            plate_tracker.add(abs_plate_coords)  # Add to tracker\n",
    "\n",
    "                            # Draw plate detection on the frame\n",
    "                            cv2.rectangle(annotated_frame,\n",
    "                                          (abs_plate_coords[0], abs_plate_coords[1]),\n",
    "                                          (abs_plate_coords[2], abs_plate_coords[3]),\n",
    "                                          (0, 255, 0), 2)  # Green rectangle for plates\n",
    "\n",
    "                            # Save the cropped license plate\n",
    "                            plate_path = os.path.join(plates_dir, f\"frame_{frame_count:04d}_plate.jpg\")\n",
    "                            cv2.imwrite(plate_path, plate_crop)\n",
    "\n",
    "    # Save the annotated frame\n",
    "    frame_path = os.path.join(frames_dir, f\"frame_{frame_count:04d}.jpg\")\n",
    "    cv2.imwrite(frame_path, annotated_frame)\n",
    "\n",
    "    # Display the annotated frame only every 10th frame\n",
    "    if frame_count % 10 == 0 or frame_count==1:\n",
    "        plt.imshow(cv2.cvtColor(annotated_frame, cv2.COLOR_BGR2RGB))\n",
    "        plt.title(f\"Frame {frame_count}\")\n",
    "        plt.axis(\"off\")\n",
    "        plt.pause(0.01)  # Pause briefly to update the plot\n",
    "        plt.clf()  # Clear the plot for the next frame\n",
    "\n",
    "    frame_count += 1\n",
    "\n",
    "# Release video resources\n",
    "cap.release()\n",
    "plt.close()\n",
    "\n",
    "print(\"Video processed, frames saved, and license plates cropped.\")\n"
   ]
  },
  {
   "cell_type": "markdown",
   "metadata": {
    "id": "dt7oxlqmhF8d"
   },
   "source": [
    "EasyOCR Text Extraction"
   ]
  },
  {
   "cell_type": "code",
   "execution_count": null,
   "metadata": {
    "colab": {
     "base_uri": "https://localhost:8080/"
    },
    "executionInfo": {
     "elapsed": 113343,
     "status": "ok",
     "timestamp": 1734037142649,
     "user": {
      "displayName": "Hassan Khan",
      "userId": "06357419573645611227"
     },
     "user_tz": -300
    },
    "id": "x9KjlWGzhF8e",
    "outputId": "0b2dacec-94f8-4265-ef59-9d09a611cfed"
   },
   "outputs": [],
   "source": [
    "import os\n",
    "import pandas as pd\n",
    "import easyocr\n",
    "\n",
    "# Paths\n",
    "plates_dir = r\"/content/drive/MyDrive/Colab Notebooks/Current File/plates\"  # Folder containing cropped plates\n",
    "output_csv_path = r\"/content/drive/MyDrive/Colab Notebooks/Current File/extracted_ocr_plates/extracted_ocr_plates.csv\"  # CSV to save extracted license plates\n",
    "\n",
    "# Initialize EasyOCR Reader\n",
    "reader = easyocr.Reader(['en'])\n",
    "\n",
    "# List to store extracted license plate information\n",
    "license_plate_data = []\n",
    "\n",
    "# Process each image in the cropped plates directory\n",
    "for plate_image_name in os.listdir(plates_dir):\n",
    "    plate_image_path = os.path.join(plates_dir, plate_image_name)\n",
    "\n",
    "    if os.path.isfile(plate_image_path):\n",
    "        print(f\"Processing image: {plate_image_name}...\")\n",
    "\n",
    "        # Perform OCR on the image\n",
    "        results = reader.readtext(plate_image_path, detail=0)\n",
    "\n",
    "        if results:\n",
    "            # Assuming the most prominent text is the license plate\n",
    "            license_plate = results[0]  # Extract the first result\n",
    "            print(f\"Extracted Text: {license_plate}\")\n",
    "\n",
    "            # Append the extracted data\n",
    "            license_plate_data.append({\n",
    "                'Image_Name': plate_image_name,\n",
    "                'License_Plate': license_plate\n",
    "            })\n",
    "        else:\n",
    "            print(f\"No text detected in image: {plate_image_name}\")\n",
    "            license_plate_data.append({\n",
    "                'Image_Name': plate_image_name,\n",
    "                'License_Plate': 'No Text Detected'\n",
    "            })\n",
    "\n",
    "# Save the extracted data to a CSV file\n",
    "extracted_df = pd.DataFrame(license_plate_data)\n",
    "extracted_df.to_csv(output_csv_path, index=False)\n",
    "\n",
    "print(f\"License plate data saved to {output_csv_path}\")\n"
   ]
  },
  {
   "cell_type": "code",
   "execution_count": null,
   "metadata": {
    "colab": {
     "base_uri": "https://localhost:8080/"
    },
    "executionInfo": {
     "elapsed": 749,
     "status": "ok",
     "timestamp": 1734277249473,
     "user": {
      "displayName": "Awais Khan Swati",
      "userId": "06691060369327443801"
     },
     "user_tz": -300
    },
    "id": "yt0FnTwejZ78",
    "outputId": "e331dbc9-5352-4dfe-ed84-89f8e307aa9d"
   },
   "outputs": [],
   "source": [
    "import pandas as pd\n",
    "import re\n",
    "\n",
    "# Path to the original CSV file\n",
    "original_csv_file_path = \"/content/drive/MyDrive/Colab Notebooks/Current File/extracted_ocr_plates/extracted_ocr_plates.csv\"\n",
    "\n",
    "# Path to save the new normalized CSV file\n",
    "normalized_csv_file_path = \"/content/drive/MyDrive/Colab Notebooks/Current File/extracted_ocr_plates/normalized_extracted_ocr_plates.csv\"\n",
    "\n",
    "# Load the extracted data from the original CSV\n",
    "extracted_df = pd.read_csv(original_csv_file_path)\n",
    "\n",
    "def normalize_text(text):\n",
    "    # Convert to uppercase for consistency\n",
    "    normalized_text = text.upper()\n",
    "    # Remove unwanted spaces\n",
    "    normalized_text = re.sub(r'\\s+', '', normalized_text)\n",
    "    # Remove any non-alphanumeric characters\n",
    "    normalized_text = re.sub(r'[^A-Z0-9]', '', normalized_text)\n",
    "    return normalized_text\n",
    "\n",
    "# Apply normalization to the 'License_Plate' column\n",
    "if 'License_Plate' in extracted_df.columns:\n",
    "    extracted_df['License_Plate'] = extracted_df['License_Plate'].apply(lambda x: normalize_text(x) if isinstance(x, str) else x)\n",
    "else:\n",
    "    print(\"Error: 'License_Plate' column not found in the CSV file!\")\n",
    "\n",
    "# Save the normalized data to the new CSV file\n",
    "extracted_df.to_csv(normalized_csv_file_path, index=False)\n",
    "\n",
    "print(f\"Normalized text saved to: {normalized_csv_file_path}\")\n"
   ]
  },
  {
   "cell_type": "markdown",
   "metadata": {
    "id": "gBWjHa9ThF8e"
   },
   "source": [
    "Dataset Matching"
   ]
  },
  {
   "cell_type": "code",
   "execution_count": null,
   "metadata": {
    "colab": {
     "base_uri": "https://localhost:8080/"
    },
    "executionInfo": {
     "elapsed": 12738,
     "status": "ok",
     "timestamp": 1734278416392,
     "user": {
      "displayName": "Awais Khan Swati",
      "userId": "06691060369327443801"
     },
     "user_tz": -300
    },
    "id": "CTWoqmbnhF8e",
    "outputId": "ef754b9b-aa49-44c4-b9df-b5663a420802"
   },
   "outputs": [],
   "source": [
    "import time\n",
    "import pandas as pd\n",
    "\n",
    "# Load the existing license plate database\n",
    "database_path = r\"/content/drive/MyDrive/Colab Notebooks/Current File/pakistan_car_license_dataset.csv\"\n",
    "database = pd.read_csv(database_path)\n",
    "\n",
    "# Assuming 'extracted_df' contains the detected license plates\n",
    "print(\"Matching each License Plate with Database...\")\n",
    "\n",
    "# Remove duplicate license plates from the extracted DataFrame\n",
    "unique_plates_df = extracted_df.drop_duplicates(subset=['License_Plate'])\n",
    "\n",
    "# Match only unique license plates\n",
    "for _, plate_info in unique_plates_df.iterrows():\n",
    "    extracted_plate = plate_info['License_Plate']\n",
    "\n",
    "    # Match with the database\n",
    "    match = database[database['License_Plate'] == extracted_plate]\n",
    "\n",
    "    if not match.empty:\n",
    "        time.sleep(1)\n",
    "        print(f\"\\nMatched found for plate: {extracted_plate}\")\n",
    "\n",
    "        time.sleep(1)  # Pause for effect\n",
    "        print(\"\\nPlease Wait, Fetching License Details...\")\n",
    "        time.sleep(2)\n",
    "        print(\"\\n\")\n",
    "\n",
    "        # Display details\n",
    "        owner_name = match.iloc[0]['Owner_Name']\n",
    "        car_model = match.iloc[0]['Car_Model']\n",
    "        registration_region = match.iloc[0]['Registration_Region']\n",
    "        license_valid = match.iloc[0]['License_Valid']\n",
    "\n",
    "        print(f\"Owner Name: {owner_name}\")\n",
    "        print(f\"Car Model: {car_model}\")\n",
    "        print(f\"Registration Region: {registration_region}\")\n",
    "        print(f\"License Validity: {license_valid}\\n\")\n",
    "        print(\"-\" * 50)\n",
    "\n",
    "print(\"Matching Completed.\")\n"
   ]
  }
 ],
 "metadata": {
  "colab": {
   "provenance": [
    {
     "file_id": "1mkIgZL33vPlNI1RYZEYtumkTt2Rjz5Zx",
     "timestamp": 1734022400290
    }
   ]
  },
  "kernelspec": {
   "display_name": "Python 3",
   "name": "python3"
  },
  "language_info": {
   "codemirror_mode": {
    "name": "ipython",
    "version": 3
   },
   "file_extension": ".py",
   "mimetype": "text/x-python",
   "name": "python",
   "nbconvert_exporter": "python",
   "pygments_lexer": "ipython3",
   "version": "3.12.6"
  }
 },
 "nbformat": 4,
 "nbformat_minor": 0
}
